{
 "cells": [
  {
   "cell_type": "markdown",
   "metadata": {},
   "source": [
    "# Getting started with the RVAI SDK\n",
    "\n",
    "This tutorial will get you started with the RVAI SDK.\n",
    "\n",
    "A dummy pipeline will be created that takes two float inputs and calculates both the sum and multiplication.\n",
    "\n",
    "Documentation on the Cell API and Pipeline API can be found here: https://base.rvai.dev.\n",
    "\n",
    "## Installation\n",
    "\n",
    "First install the required the sdk python packages.\n",
    "Simplest way is to install the 'rvai' meta package which will install all SDK related packages. Access to our devpi server is required.\n"
   ]
  },
  {
   "cell_type": "code",
   "execution_count": null,
   "metadata": {},
   "outputs": [],
   "source": [
    "!pip install rvai==1.1.0rc51 pygraphviz"
   ]
  },
  {
   "cell_type": "markdown",
   "metadata": {},
   "source": [
    "## Creating the cells\n",
    "\n",
    "First we will create a SummatorCell and a MultiplatorCell that both accept 2 floating point inputs and generate a floating point output."
   ]
  },
  {
   "cell_type": "code",
   "execution_count": null,
   "metadata": {},
   "outputs": [],
   "source": [
    "# import base classes\n",
    "from dataclasses import dataclass, field\n",
    "from rvai.base.cell import Cell, TrainableCell, cell\n",
    "from rvai.base.data import (\n",
    "    Annotations,\n",
    "    Inputs,\n",
    "    Outputs,\n",
    "    Parameters,\n",
    "    ProcessedParameters,\n",
    ")\n",
    "from rvai.base.context import InferenceContext, ParameterContext\n",
    "from rvai.types import Float"
   ]
  },
  {
   "cell_type": "markdown",
   "metadata": {},
   "source": [
    "### SummatorCell"
   ]
  },
  {
   "cell_type": "code",
   "execution_count": null,
   "metadata": {},
   "outputs": [],
   "source": [
    "# Inputs\n",
    "@dataclass\n",
    "class SummatorInputs(Inputs):\n",
    "    op_1: Float = Inputs.field(\n",
    "        name=\"Operand 1\", description=\"A floating point.\"\n",
    "    )\n",
    "    op_2: Float = Inputs.field(\n",
    "        name=\"Operand 2\", description=\"A floating point.\"\n",
    "    )\n",
    "\n",
    "# Outputs\n",
    "@dataclass\n",
    "class SummatorOutputs(Outputs):\n",
    "    sum: Float = Outputs.field(\n",
    "        name=\"Sum\", description=\"Sum of operand 1 and 2.\"\n",
    "    )\n",
    "\n",
    "# Parameters\n",
    "@dataclass\n",
    "class SummatorParameters(Parameters):\n",
    "    threshold: Float = Parameters.field(\n",
    "        default=Float(100.0),\n",
    "        name=\"Threshold\", description=\"Threshold of the sum.\"\n",
    "    )\n",
    "\n",
    "# Cell\n",
    "@cell\n",
    "class SummatorCell(Cell):\n",
    "\n",
    "    @classmethod\n",
    "    def process_parameters(\n",
    "        cls, context: ParameterContext, parameters: SummatorParameters\n",
    "    ) -> SummatorParameters:\n",
    "        return parameters\n",
    "\n",
    "    @classmethod\n",
    "    def call(\n",
    "        cls, context: InferenceContext, parameters: SummatorParameters, inputs: SummatorInputs,\n",
    "    ) -> SummatorOutputs:\n",
    "        return SummatorOutputs(sum=Float(min(inputs.op_1 + inputs.op_2, parameters.threshold)))\n"
   ]
  },
  {
   "cell_type": "markdown",
   "metadata": {},
   "source": [
    "### MultiplierCell"
   ]
  },
  {
   "cell_type": "code",
   "execution_count": null,
   "metadata": {},
   "outputs": [],
   "source": [
    "# Inputs\n",
    "@dataclass\n",
    "class MultiplierInputs(Inputs):\n",
    "    op_1: Float = Inputs.field(\n",
    "        name=\"Operand 1\", description=\"A floating point.\"\n",
    "    )\n",
    "    op_2: Float = Inputs.field(\n",
    "        name=\"Operand 2\", description=\"A floating point.\"\n",
    "    )\n",
    "\n",
    "# Outputs\n",
    "@dataclass\n",
    "class MultiplierOutputs(Outputs):\n",
    "    product: Float = Outputs.field(\n",
    "        name=\"Product\", description=\"Product of operand 1 and 2.\"\n",
    "    )\n",
    "\n",
    "# Parameters\n",
    "@dataclass\n",
    "class MultiplierParameters(Parameters):\n",
    "    pass\n",
    "\n",
    "# Cell\n",
    "@cell\n",
    "class MultiplierCell(Cell):\n",
    "\n",
    "    @classmethod\n",
    "    def process_parameters(\n",
    "        cls, context: ParameterContext, parameters: MultiplierParameters\n",
    "    ) -> MultiplierParameters:\n",
    "        return parameters\n",
    "\n",
    "    @classmethod\n",
    "    def call(\n",
    "        cls, context: InferenceContext, parameters: MultiplierParameters, inputs: MultiplierInputs,\n",
    "    ) -> MultiplierOutputs:\n",
    "        return MultiplierOutputs(product=Float(inputs.op_1 * inputs.op_2))"
   ]
  },
  {
   "cell_type": "markdown",
   "metadata": {},
   "source": [
    "## Creating a pipeline"
   ]
  },
  {
   "cell_type": "code",
   "execution_count": null,
   "metadata": {},
   "outputs": [],
   "source": [
    "from rvai.base.pipeline import DeclarativePipeline, PipelineCells, PipelineFactory, pipeline"
   ]
  },
  {
   "cell_type": "code",
   "execution_count": null,
   "metadata": {},
   "outputs": [],
   "source": [
    "# imperative\n",
    "def generate_pipeline():\n",
    "    # create pipeline\n",
    "    p = PipelineFactory(name=\"MyPipeline\")\n",
    "    \n",
    "    # create cells and add them to pipeline\n",
    "    sum_cell = SummatorCell()    \n",
    "    mul_cell = MultiplierCell()    \n",
    "    p.add_cell(ref=\"sum\", cell=sum_cell)\n",
    "    p.add_cell(ref=\"mul\", cell=mul_cell)\n",
    "    \n",
    "    # setup connections\n",
    "    p.declare_input(ref=\"a\", input=sum_cell.inputs.op_1)\n",
    "    p.declare_input(ref=\"b\", input=sum_cell.inputs.op_2)\n",
    "    p.declare_input(ref=\"a\", input=mul_cell.inputs.op_1)\n",
    "    p.declare_input(ref=\"b\", input=mul_cell.inputs.op_2)\n",
    "    \n",
    "    p.declare_output(ref=\"sum\", output=sum_cell.outputs.sum)\n",
    "    p.declare_output(ref=\"product\", output=mul_cell.outputs.product)\n",
    "    \n",
    "    return p.build()\n",
    "\n",
    "# declarative\n",
    "class MyPipelineCells(PipelineCells):\n",
    "    sum: SummatorCell\n",
    "    mult: MultiplierCell\n",
    "\n",
    "@pipeline\n",
    "class MyPipeline(DeclarativePipeline):\n",
    "\n",
    "    cells = MyPipelineCells\n",
    "    inputs = {\n",
    "        \"a\": [cells.sum.inputs.op_1, cells.mult.inputs.op_1],\n",
    "        \"b\": [cells.sum.inputs.op_2, cells.mult.inputs.op_2],\n",
    "    }\n",
    "    outputs = {\n",
    "        \"sum\": cells.sum.outputs.sum,\n",
    "        \"product\": cells.mult.outputs.product,\n",
    "    }"
   ]
  },
  {
   "cell_type": "code",
   "execution_count": null,
   "metadata": {},
   "outputs": [],
   "source": [
    "pipeline = MyPipeline.build()\n",
    "# %matplotlib inline\n",
    "pipeline.show()"
   ]
  },
  {
   "cell_type": "markdown",
   "metadata": {},
   "source": [
    "## Initializing a runtime\n",
    "\n",
    "A runtime is required to run the pipeline. In this case we use the DebugRuntime which is a simple runtime that runs the cells sequentially.\n",
    "\n",
    "We also start an inference service for the pipeline."
   ]
  },
  {
   "cell_type": "code",
   "execution_count": null,
   "metadata": {},
   "outputs": [],
   "source": [
    "from rvai.base.runtime import Inference, init\n",
    "\n",
    "# init debug runtime\n",
    "rt = init(\"ray\")\n",
    "\n",
    "# create inference task\n",
    "inference = Inference(pipeline=pipeline)\n",
    "proc = rt.start_inference(inference)"
   ]
  },
  {
   "cell_type": "markdown",
   "metadata": {},
   "source": [
    "Requesting a prediction:"
   ]
  },
  {
   "cell_type": "code",
   "execution_count": null,
   "metadata": {},
   "outputs": [],
   "source": [
    "# get prediction\n",
    "pred = proc.predict({\"a\": Float(2.0), \"b\": Float(3.0)})\n",
    "print(pred.result())\n",
    "pred = proc.predict({\"a\": Float(4.0), \"b\": Float(5.0)})\n",
    "print(pred.result())"
   ]
  },
  {
   "cell_type": "markdown",
   "metadata": {},
   "source": [
    "Update parameters:"
   ]
  },
  {
   "cell_type": "code",
   "execution_count": null,
   "metadata": {},
   "outputs": [],
   "source": [
    "# update parameters for a certain state id\n",
    "proc.set_parameters(parameters={\"sum\": SummatorParameters(threshold=Float(1.0))})\n",
    "proc.set_parameters(parameters={\"sum\": SummatorParameters(threshold=Float(10.0))}, sid=\"stream-1\")\n",
    "\n",
    "# get prediction on default state\n",
    "pred = proc.predict({\"a\": Float(10.0), \"b\": Float(30.0)})\n",
    "print(\"default parameters:\", pred.result())\n",
    "\n",
    "# get prediction on 'stream-1' state\n",
    "pred = proc.predict({\"a\": Float(10.0), \"b\": Float(30.0)}, sid=\"stream-1\")\n",
    "print(\"stream-1 parameters:\", pred.result())"
   ]
  },
  {
   "cell_type": "markdown",
   "metadata": {},
   "source": [
    "Stop the process and runtime.\n",
    "In fact, stopping the runtime would be sufficient as that stops all processes as well."
   ]
  },
  {
   "cell_type": "code",
   "execution_count": null,
   "metadata": {},
   "outputs": [],
   "source": [
    "proc.stop()\n",
    "rt.stop()"
   ]
  },
  {
   "cell_type": "code",
   "execution_count": null,
   "metadata": {},
   "outputs": [],
   "source": []
  }
 ],
 "metadata": {
  "kernelspec": {
   "display_name": "Python 3",
   "language": "python",
   "name": "python3"
  },
  "language_info": {
   "codemirror_mode": {
    "name": "ipython",
    "version": 3
   },
   "file_extension": ".py",
   "mimetype": "text/x-python",
   "name": "python",
   "nbconvert_exporter": "python",
   "pygments_lexer": "ipython3",
   "version": "3.6.9"
  }
 },
 "nbformat": 4,
 "nbformat_minor": 4
}
